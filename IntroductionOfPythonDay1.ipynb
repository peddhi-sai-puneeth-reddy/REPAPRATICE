{
 "cells": [
  {
   "cell_type": "markdown",
   "id": "e27915c5",
   "metadata": {},
   "source": [
    "Write a Python program that displays a message as follows for a given number:\n",
    "\n",
    "If it is a multiple of 3, display \"Zip\"\n",
    "\n",
    "If it is a multiple of 5, display \"Zap\"\n",
    "\n",
    "If it is a multiple of both 3 and 5, display \"Zoom\"\n",
    "\n",
    "If it does not satisfy any of the above given conditions, display \"Invalid\""
   ]
  },
  {
   "cell_type": "code",
   "execution_count": 3,
   "id": "e3584317",
   "metadata": {},
   "outputs": [
    {
     "name": "stdout",
     "output_type": "stream",
     "text": [
      "3\n",
      "Zip\n"
     ]
    }
   ],
   "source": [
    "num  =int(input())\n",
    "\n",
    "if (num%3==0) and (num%5==0):\n",
    "    print('Zoom')\n",
    "elif (num%3==0):\n",
    "    print('Zip')\n",
    "elif (num%5==0):\n",
    "    print('Zap')\n",
    "else:\n",
    "    print('Invalid')"
   ]
  },
  {
   "cell_type": "markdown",
   "id": "873bf320",
   "metadata": {},
   "source": [
    "Write a Python program to find the sum of digits of a given number.\n",
    "\n",
    "Example: Sum of digits of the number 123 will be 6\n",
    "\n",
    "Note: Initialize the number with various values and test your program."
   ]
  },
  {
   "cell_type": "code",
   "execution_count": 4,
   "id": "05c10771",
   "metadata": {},
   "outputs": [
    {
     "name": "stdout",
     "output_type": "stream",
     "text": [
      "123\n",
      "6\n"
     ]
    }
   ],
   "source": [
    "number = int(input())\n",
    "\n",
    "sum1 =0\n",
    "\n",
    "while(number>0):\n",
    "    sum1+=number%10\n",
    "    number//=10\n",
    "print(sum1)"
   ]
  },
  {
   "cell_type": "markdown",
   "id": "ac399f7a",
   "metadata": {},
   "source": [
    "Write a Python program to find and display the maximum of three given numbers"
   ]
  },
  {
   "cell_type": "code",
   "execution_count": 5,
   "id": "fee292b2",
   "metadata": {},
   "outputs": [
    {
     "name": "stdout",
     "output_type": "stream",
     "text": [
      "Enter the number 12\n",
      "Enter the number 24\n",
      "Enter the number 37\n",
      "c is the maximum value\n"
     ]
    }
   ],
   "source": [
    "a = int(input('Enter the number 1'))\n",
    "b = int(input('Enter the number 2'))\n",
    "c = int(input('Enter the number 3'))\n",
    "\n",
    "if (a>b and a>c):\n",
    "    print('a is the maximum value')\n",
    "elif(b>c):\n",
    "    print('b is the maximum value')\n",
    "else:\n",
    "    print('c is the maximum value')"
   ]
  },
  {
   "cell_type": "markdown",
   "id": "8cf43a58",
   "metadata": {},
   "source": [
    "Write a Python program to check the given number is prime number or not."
   ]
  },
  {
   "cell_type": "code",
   "execution_count": 8,
   "id": "e53e26fb",
   "metadata": {},
   "outputs": [
    {
     "name": "stdout",
     "output_type": "stream",
     "text": [
      "4\n",
      "not prime\n"
     ]
    }
   ],
   "source": [
    "def isprime(number):\n",
    "    count =0\n",
    "    for i in range(1,number+1):\n",
    "        if (number%i==0):\n",
    "            count+=1\n",
    "    if count==2:\n",
    "        return 'prime'\n",
    "    return 'not prime'\n",
    "number = int(input())\n",
    "print(isprime(number))"
   ]
  },
  {
   "cell_type": "markdown",
   "id": "012e6977",
   "metadata": {},
   "source": [
    "Write a Python program to print first n Fibonacci numbers.\n",
    "\n"
   ]
  },
  {
   "cell_type": "code",
   "execution_count": 9,
   "id": "56ebb742",
   "metadata": {},
   "outputs": [
    {
     "data": {
      "text/plain": [
       "[0, 1, 1, 2, 3]"
      ]
     },
     "execution_count": 9,
     "metadata": {},
     "output_type": "execute_result"
    }
   ],
   "source": [
    "def fibonacci(n):\n",
    "    a = [ 0 , 1]\n",
    "    for i in range(2,n):\n",
    "        a.append(a[i-1]+a[i-2])\n",
    "    return a\n",
    "\n",
    "fibonacci(int(input('Enter the number')))"
   ]
  },
  {
   "cell_type": "markdown",
   "id": "79f614e0",
   "metadata": {},
   "source": [
    "Write a Python program to check whether the given year is leap year or not."
   ]
  },
  {
   "cell_type": "code",
   "execution_count": 15,
   "id": "14dc5b54",
   "metadata": {},
   "outputs": [
    {
     "name": "stdout",
     "output_type": "stream",
     "text": [
      "Enter the Year1990\n",
      "1990 is not a leap year\n"
     ]
    }
   ],
   "source": [
    "def isleap(number):\n",
    "    if (number%400==0 and number%100==0) or ((number % 4 ==0) and (number % 100 != 0)):\n",
    "        print('{0} is a leap year'.format(number))\n",
    "    else:\n",
    "        print('{0} is not a leap year'.format(number))\n",
    "        \n",
    "isleap(int(input('Enter the Year')))\n",
    "        "
   ]
  },
  {
   "cell_type": "markdown",
   "id": "d11f329d",
   "metadata": {},
   "source": [
    "Exercise -1\n",
    "Write a Python function, find_square() that accepts an integer number n and returns the square of n. Invoke the function and display the square of the number. "
   ]
  },
  {
   "cell_type": "code",
   "execution_count": 16,
   "id": "9993d6d1",
   "metadata": {},
   "outputs": [
    {
     "name": "stdout",
     "output_type": "stream",
     "text": [
      "4\n",
      "16\n"
     ]
    }
   ],
   "source": [
    "def find_square(n):\n",
    "    return n*n\n",
    "\n",
    "print(find_square(int(input())))"
   ]
  },
  {
   "cell_type": "code",
   "execution_count": 23,
   "id": "06ba2a12",
   "metadata": {},
   "outputs": [
    {
     "name": "stdout",
     "output_type": "stream",
     "text": [
      "-------------------------------------------------\n",
      "code-4: variable argument count\n",
      "<class 'tuple'>\n"
     ]
    }
   ],
   "source": [
    "def display4(passenger_name, *baggage):\n",
    "    print(type(baggage))\n",
    "print(\"-------------------------------------------------\")\n",
    "print(\"code-4: variable argument count\")\n",
    "display4(\"Jack\",12,8,5)"
   ]
  },
  {
   "cell_type": "markdown",
   "id": "c6e55fce",
   "metadata": {},
   "source": [
    "Exercise -2\n",
    "Write a Python function, find_sum() that accepts an integer n and returns the sum of first n numbers. Invoke the function and display the sum of first n numbers."
   ]
  },
  {
   "cell_type": "code",
   "execution_count": 21,
   "id": "714550b2",
   "metadata": {},
   "outputs": [
    {
     "name": "stdout",
     "output_type": "stream",
     "text": [
      "enter the number10\n",
      "55\n"
     ]
    }
   ],
   "source": [
    "def find_sum(n):\n",
    "    n*= (n+1)/2\n",
    "    return int(n)\n",
    "\n",
    "print(find_sum(int(input('enter the number'))))"
   ]
  },
  {
   "cell_type": "code",
   "execution_count": 28,
   "id": "336adeb8",
   "metadata": {},
   "outputs": [
    {
     "name": "stdout",
     "output_type": "stream",
     "text": [
      "This airline allows baggage limit till 30 kgs\n",
      "Pay the extra baggage charge of 500 rupees\n",
      "This airline now allows baggage limit till 45 kgs\n",
      "Pay the extra baggage charge of 0 rupees\n"
     ]
    }
   ],
   "source": [
    "wt_limit=30\n",
    "def baggage_check(baggage_wt):\n",
    "    extra_baggage_charge=0\n",
    "    if not(baggage_wt>=0 and baggage_wt<=wt_limit):\n",
    "        extra_baggage=baggage_wt-wt_limit\n",
    "        extra_baggage_charge=extra_baggage*100\n",
    "    return extra_baggage_charge\n",
    "def update_baggage_limit(new_wt_limit):\n",
    "    global wt_limit\n",
    "    wt_limit=new_wt_limit\n",
    "    print(\"This airline now allows baggage limit till\",wt_limit,\"kgs\")\n",
    "print(\"This airline allows baggage limit till\",wt_limit,\"kgs\")\n",
    "\n",
    "print(\"Pay the extra baggage charge of\",baggage_check(35),\"rupees\")\n",
    "update_baggage_limit(45)\n",
    "print(\"Pay the extra baggage charge of\",baggage_check(35),\"rupees\")\n"
   ]
  },
  {
   "cell_type": "markdown",
   "id": "7249dc85",
   "metadata": {},
   "source": [
    "Write a Python function factorial(num) which returns the factorial of a given number./"
   ]
  },
  {
   "cell_type": "code",
   "execution_count": 31,
   "id": "dce2ee2e",
   "metadata": {},
   "outputs": [
    {
     "name": "stdout",
     "output_type": "stream",
     "text": [
      "Enter the number 4\n"
     ]
    },
    {
     "data": {
      "text/plain": [
       "24"
      ]
     },
     "execution_count": 31,
     "metadata": {},
     "output_type": "execute_result"
    }
   ],
   "source": [
    "def factorial(num):\n",
    "    if num==1:\n",
    "        return num\n",
    "    return num*factorial(num-1)\n",
    "factorial(int(input('Enter the number ')))"
   ]
  },
  {
   "cell_type": "markdown",
   "id": "3bd3a702",
   "metadata": {},
   "source": [
    "Write a Python Function is_palindrome(num) that accepts an integer num as argument and returns True if the num is palindrome else returns false. Invoke the function and based on return value print the output.\n",
    "\n",
    "Example: num=12321 output: Given number is a palindrome, num=12345 output: Given number is not a palindrome"
   ]
  },
  {
   "cell_type": "code",
   "execution_count": 33,
   "id": "ed973eb5",
   "metadata": {},
   "outputs": [
    {
     "name": "stdout",
     "output_type": "stream",
     "text": [
      "enter the number1231\n"
     ]
    },
    {
     "data": {
      "text/plain": [
       "'1231 not palindrome'"
      ]
     },
     "execution_count": 33,
     "metadata": {},
     "output_type": "execute_result"
    }
   ],
   "source": [
    "def is_palindrome(num):\n",
    "    if num[::-1]==num:\n",
    "        return '{0} is palindrome'.format(num)\n",
    "    return '{0} not palindrome'.format(num)\n",
    "\n",
    "is_palindrome(input('enter the number'))"
   ]
  },
  {
   "cell_type": "markdown",
   "id": "2eab1007",
   "metadata": {},
   "source": [
    "Write a Python function check_amicable_numbers(num1, num2) that accepts two numbers num1 and num2 as arguments and returns True if the given pair of numbers are amicable numbers else return false. Invoke the function and based on return value print the numbers are amicable numbers or not.\n",
    "\n",
    "num1 and num2 are said to be amicable numbers if sum of all the proper devisors (except num1 itself) of num1 is equal to num2 and sum of all the proper devisors of num2 (except num1 itself) is equal to num1.\n",
    "\n",
    "Example: 220 and 284 are amicable numbers as\n",
    "\n",
    "Proper devisors of 220 are 1, 2, 4, 5, 10, 11, 20, 22, 44, 55, 110 whose sum is 284\n",
    "\n",
    "Proper devisors of 284 are 1, 2, 4, 71, 142 whose sum is 220"
   ]
  },
  {
   "cell_type": "code",
   "execution_count": 35,
   "id": "1f454aa2",
   "metadata": {},
   "outputs": [
    {
     "name": "stdout",
     "output_type": "stream",
     "text": [
      "Enter the number1220\n",
      "Enter the number 2284\n"
     ]
    },
    {
     "data": {
      "text/plain": [
       "'220,284 are amicable numbers '"
      ]
     },
     "execution_count": 35,
     "metadata": {},
     "output_type": "execute_result"
    }
   ],
   "source": [
    "def devisors(num):\n",
    "    a =[]\n",
    "    for i in  range(1,(num//2)+1):\n",
    "        if (num%i)==0:\n",
    "            a.append(i)\n",
    "    return a\n",
    "\n",
    "def is_amicable(num1,num2):\n",
    "    if (sum(devisors(num1))==num2) and (sum(devisors(num2))==num1):\n",
    "        return '{0},{1} are amicable numbers '.format(num1,num2)\n",
    "    return '{0},{1} are not amicable numbers '.format(num1,num2)\n",
    "\n",
    "is_amicable(int(input('Enter the number1')),int(input('Enter the number 2')))\n",
    "        "
   ]
  },
  {
   "cell_type": "markdown",
   "id": "2e0f5f23",
   "metadata": {},
   "source": [
    "Write a Python function right_shift(num, n) that takes two numbers num and n as  arguments and returns value of the integer num rotated to the right by n positions. Assume both the numbers are unsigned. Invoke the function and print the return value.\n",
    "\n",
    "Hint: use >> binary operator to shift the bits.\n",
    "\n",
    "Example: num=60, n=2 result=15\n",
    "\n"
   ]
  },
  {
   "cell_type": "code",
   "execution_count": 42,
   "id": "f7e4099c",
   "metadata": {},
   "outputs": [
    {
     "name": "stdout",
     "output_type": "stream",
     "text": [
      "Enter the number 60\n",
      "Enter No of positions to be shift2\n"
     ]
    },
    {
     "data": {
      "text/plain": [
       "15"
      ]
     },
     "execution_count": 42,
     "metadata": {},
     "output_type": "execute_result"
    }
   ],
   "source": [
    "def right_shift(num,n):\n",
    "#     for i in range(n):\n",
    "#         num=num>>1\n",
    "    return num>>n\n",
    "\n",
    "right_shift(int(input('Enter the number ')),int(input('Enter No of positions to be shift')))"
   ]
  },
  {
   "cell_type": "markdown",
   "id": "63b0e30c",
   "metadata": {},
   "source": [
    "Write a Python function check_strong_number(num) that accepts a positive integer as argument and returns True if the number is strong number else false. Invoke the function and based on return value print the number is strong number or not.\n",
    "\n",
    "A number is said to be strong number, if the sum of factorial of each digit of the number is equal to the given number.\n",
    "\n",
    "Example:145 is strong number as\n",
    "\n",
    "1!=1\n",
    "\n",
    "4!=24\n",
    "\n",
    "5!=120\n",
    "\n",
    "Sum of all these is 145"
   ]
  },
  {
   "cell_type": "code",
   "execution_count": 45,
   "id": "046945fe",
   "metadata": {},
   "outputs": [
    {
     "name": "stdout",
     "output_type": "stream",
     "text": [
      "Enter the number1\n",
      "1 is a strong number\n"
     ]
    }
   ],
   "source": [
    "def factorial(num):\n",
    "    if num==1:\n",
    "        return num\n",
    "    return num*factorial(num-1)\n",
    "def check_strong_number(number):\n",
    "    sum1=0\n",
    "    n= number\n",
    "    while(n>0):\n",
    "        sum1+=factorial(n%10)\n",
    "        n//=10\n",
    "    if number==sum1:\n",
    "        return True\n",
    "    return False\n",
    "\n",
    "number = int(input('Enter the number'))\n",
    "if number>0:\n",
    "    Flag =check_strong_number(number)\n",
    "    if Flag:\n",
    "        print('{0} is a strong number'.format(number))\n",
    "    else:\n",
    "        print('{0} is not a strong number'.format(number))"
   ]
  },
  {
   "cell_type": "markdown",
   "id": "ef91ed47",
   "metadata": {},
   "source": [
    "Given a list of integer values, write a Python program to check whether the list contains the same number in adjacent positions. Display the count of such adjacent occurrences.\n",
    "\n",
    "Sample Input\n",
    "\n",
    "Sample Output\n",
    "\n",
    "[1,1,5,100,-20,-20,6,0,0]\n",
    "\n",
    "3\n",
    "\n",
    "[10,20,30,40,30,20]\n",
    "\n",
    "0\n",
    "\n",
    "[1,2,2,3,4,4,4,10]\n",
    "\n",
    "3\n",
    "\n"
   ]
  },
  {
   "cell_type": "code",
   "execution_count": 62,
   "id": "5ecc432f",
   "metadata": {},
   "outputs": [
    {
     "name": "stdout",
     "output_type": "stream",
     "text": [
      "10,20,30,40,30,20\n"
     ]
    },
    {
     "data": {
      "text/plain": [
       "0"
      ]
     },
     "execution_count": 62,
     "metadata": {},
     "output_type": "execute_result"
    }
   ],
   "source": [
    "def check_adjacent(list1):\n",
    "    count=0\n",
    "    for i in range(0,len(list1)-1):\n",
    "        \n",
    "        if list1[i]==list1[i+1]:\n",
    "            count+=1\n",
    "    return count\n",
    "list1 = list(map(int,input().split(\",\")))\n",
    "check_adjacent(list1)"
   ]
  },
  {
   "cell_type": "code",
   "execution_count": 64,
   "id": "58040469",
   "metadata": {},
   "outputs": [
    {
     "name": "stdout",
     "output_type": "stream",
     "text": [
      "Length of the PAN card number: 10\n",
      "PAN card\n",
      "Iterating the string using range()\n",
      "A\n",
      "A\n",
      "B\n",
      "G\n",
      "T\n",
      "6\n",
      "7\n",
      "1\n",
      "5\n",
      "H\n",
      "Iterating the string using keyword in\n",
      "A\n",
      "A\n",
      "B\n",
      "G\n",
      "T\n",
      "6\n",
      "7\n",
      "1\n",
      "5\n",
      "H\n",
      "Searching for a character in string\n",
      "Character is not present\n",
      "The numbers in the PAN card number: 6715\n",
      "Last but one 3 characters in the PAN card: 715\n",
      "AABGT6715H\n"
     ]
    }
   ],
   "source": [
    "#Creating a string\n",
    "pancard_number=\"AABGT6715H\"\n",
    "#Length of the string\n",
    "print(\"Length of the PAN card number:\", len(pancard_number))\n",
    "#Concatenating two strings\n",
    "name1 =\"PAN \"\n",
    "name2=\"card\"\n",
    "name=name1+name2\n",
    "print(name)\n",
    "print(\"Iterating the string using range()\")\n",
    "for index in range(0,len(pancard_number)):\n",
    "    print(pancard_number[index])\n",
    "    \n",
    "print(\"Iterating the string using keyword in\")\n",
    "for value in pancard_number:\n",
    "    print(value)\n",
    "print(\"Searching for a character in string\")\n",
    "if \"Z\" in pancard_number:\n",
    "    print(\"Character present\")\n",
    "else:\n",
    "    print(\"Character is not present\")\n",
    "#Slicing a string\n",
    "print(\"The numbers in the PAN card number:\", pancard_number[5:9])\n",
    "print(\"Last but one 3 characters in the PAN card:\",pancard_number[-4:-1])\n",
    "# pancard_number[2]=\"A\" #This line will result in an error, i.e., string is immutable\n",
    "print(pancard_number)\n"
   ]
  },
  {
   "cell_type": "code",
   "execution_count": 65,
   "id": "bb2cb2da",
   "metadata": {},
   "outputs": [
    {
     "name": "stdout",
     "output_type": "stream",
     "text": [
      "PAN card\n"
     ]
    }
   ],
   "source": [
    "name1 =\"PAN \"\n",
    "name2=\"card\"\n",
    "name1=name1+name2\n",
    "print(name1)"
   ]
  },
  {
   "cell_type": "code",
   "execution_count": 72,
   "id": "cc49e78f",
   "metadata": {},
   "outputs": [
    {
     "data": {
      "text/plain": [
       "dict_items"
      ]
     },
     "execution_count": 72,
     "metadata": {},
     "output_type": "execute_result"
    }
   ],
   "source": [
    "crew_details={ \"Pilot\":\"Kumar\",\n",
    "\"Co-pilot\":\"Raghav\",\n",
    "\"Head-Strewardess\":\"Malini\",\n",
    "\"Stewardess\":\"Mala\" }\n",
    "\n",
    "crew_details.items()"
   ]
  },
  {
   "cell_type": "code",
   "execution_count": 78,
   "id": "cf30156a",
   "metadata": {},
   "outputs": [
    {
     "name": "stdout",
     "output_type": "stream",
     "text": [
      "Pilot Kumar\n",
      "Co-pilot Raghav\n",
      "Head-Strewardess Malini\n",
      "Stewardess Mala\n"
     ]
    }
   ],
   "source": [
    "for i in crew_details:\n",
    "    print(i,crew_details[i])"
   ]
  },
  {
   "cell_type": "markdown",
   "id": "2d48f9a9",
   "metadata": {},
   "source": [
    "Write a Python function proper_divisors(num) which returns a list of all the proper divisors of given number.\n",
    "\n",
    "Example: Proper divisors of 220 are 1, 2, 4, 5, 10, 11, 20, 22, 44, 55, 110"
   ]
  },
  {
   "cell_type": "code",
   "execution_count": 79,
   "id": "96283f22",
   "metadata": {},
   "outputs": [
    {
     "data": {
      "text/plain": [
       "[1, 2, 4, 5, 10, 11, 20, 22, 44, 55, 110]"
      ]
     },
     "execution_count": 79,
     "metadata": {},
     "output_type": "execute_result"
    }
   ],
   "source": [
    "def proper_divisors(num):\n",
    "    a=[1]\n",
    "    for i in range(2,num//2+1):\n",
    "        if (num%i==0):\n",
    "            a.append(i)\n",
    "    return a\n",
    "\n",
    "proper_divisors(int(input('Enter the number')))"
   ]
  },
  {
   "cell_type": "markdown",
   "id": "ec0d95f6",
   "metadata": {},
   "source": [
    "Write a Python function generate_fibanacci(n) to return a list of first n Fibonacci numbers."
   ]
  },
  {
   "cell_type": "code",
   "execution_count": 80,
   "id": "74b1887c",
   "metadata": {},
   "outputs": [
    {
     "name": "stdout",
     "output_type": "stream",
     "text": [
      "Enter the number5\n"
     ]
    },
    {
     "data": {
      "text/plain": [
       "[0, 1, 1, 2, 3]"
      ]
     },
     "execution_count": 80,
     "metadata": {},
     "output_type": "execute_result"
    }
   ],
   "source": [
    "def fibonacci(n):\n",
    "    a = [ 0 , 1]\n",
    "    for i in range(2,n):\n",
    "        a.append(a[i-1]+a[i-2])\n",
    "    return a\n",
    "\n",
    "fibonacci(int(input('Enter the number')))"
   ]
  },
  {
   "cell_type": "markdown",
   "id": "e50258ba",
   "metadata": {},
   "source": [
    "Write a Python program to generate the next 15 leap years starting from a given year. Populate the leap years into a list and display the list."
   ]
  },
  {
   "cell_type": "markdown",
   "id": "76700210",
   "metadata": {},
   "source": [
    "Given a string containing uppercase characters (A-Z), compress the string using Run Length encoding. Repetition of character has to be replaced by storing the length of that run.\n",
    "\n",
    "Write a python function encode(message)  which performs the run length encoding for a given String and returns the run length encoded String.\n",
    "\n",
    "Provide different String values and test your program.\n",
    "\n",
    "Example: message=AAAABBBBCCCCCCCC  output: 4A4B8C\n",
    "\n"
   ]
  },
  {
   "cell_type": "code",
   "execution_count": 5,
   "id": "f0e45d1a",
   "metadata": {},
   "outputs": [
    {
     "name": "stdout",
     "output_type": "stream",
     "text": [
      "AAAABBBBCCCCCCCC\n",
      "4A4B8C\n"
     ]
    }
   ],
   "source": [
    "s = input()\n",
    "s1=\"\"\n",
    "\n",
    "for i in s:\n",
    "    if i not in s1:\n",
    "        s1+=str(s.count(i))+i\n",
    "print(s1)"
   ]
  },
  {
   "cell_type": "markdown",
   "id": "c19da97c",
   "metadata": {},
   "source": [
    "Represent a small bilingual (English-Swedish) glossary given below as a Python dictionary\n",
    "\n",
    "{\"merry\":\"god\", \"christmas\":\"jul\", \"and\":\"och\", \"happy\":\"gott\", \"new\":\"nytt\", \"year\":\"ar\"} \n",
    "\n",
    "and use it to translate your Christmas wishes from English into Swedish.\n",
    "\n",
    "That is, write a Python function translate(b_dict,list_words) that accepts the bilingual dictionary and a list of English words (your Christmas wish) and returns a list of equivalent Swedish words. \n",
    "\n",
    " "
   ]
  },
  {
   "cell_type": "code",
   "execution_count": 6,
   "id": "c1559445",
   "metadata": {},
   "outputs": [
    {
     "name": "stdout",
     "output_type": "stream",
     "text": [
      "['gott', 'jul']\n"
     ]
    }
   ],
   "source": [
    "def translate(b_dict,list_words):\n",
    "    for i in range(len(list_words)):\n",
    "        list_words[i]= b_dict[list_words[i]]\n",
    "    return list_words\n",
    "\n",
    "b_dict = {\"merry\":\"god\", \"christmas\":\"jul\", \"and\":\"och\", \"happy\":\"gott\", \"new\":\"nytt\", \"year\":\"ar\"}\n",
    "\n",
    "list_words = ['happy','christmas']\n",
    "\n",
    "print(translate(b_dict,list_words))"
   ]
  },
  {
   "cell_type": "code",
   "execution_count": 8,
   "id": "2a91251b",
   "metadata": {},
   "outputs": [
    {
     "name": "stdout",
     "output_type": "stream",
     "text": [
      " Mysore\n",
      "come to Mys\n"
     ]
    }
   ],
   "source": [
    "message=\"welcome to Mysore\"\n",
    "word=message[-7:]\n",
    "print(word)\n",
    "\n",
    "if(word==\"Mysore\"):\n",
    "    print(\"got it\")\n",
    "else:\n",
    "    message=message[3:14]\n",
    "    print(message)"
   ]
  },
  {
   "cell_type": "code",
   "execution_count": 10,
   "id": "64e2e4a4",
   "metadata": {},
   "outputs": [
    {
     "data": {
      "text/plain": [
       "12"
      ]
     },
     "execution_count": 10,
     "metadata": {},
     "output_type": "execute_result"
    }
   ],
   "source": [
    "import random\n",
    "random.randrange(10,15)"
   ]
  },
  {
   "cell_type": "code",
   "execution_count": 13,
   "id": "f4bfe8e6",
   "metadata": {},
   "outputs": [
    {
     "name": "stdout",
     "output_type": "stream",
     "text": [
      "The smallest integer greater than or equal to num1, 234.001 : 235\n",
      "The largest integer smaller than or equal to num1, 234.001 : 234\n",
      "The factorial of num2, 6 : 720\n",
      "The absolute value of num3 -27.01 : 27.01\n"
     ]
    }
   ],
   "source": [
    "import math\n",
    "num1=234.001\n",
    "num2=6\n",
    "num3=-27.01\n",
    "print(\"The smallest integer greater than or equal to num1,\",num1,\":\",math.ceil(num1))\n",
    "print(\"The largest integer smaller than or equal to num1,\",num1,\":\",math.floor(num1))\n",
    "print(\"The factorial of num2,\",num2,\":\", math.factorial(num2))\n",
    "print(\"The absolute value of num3\",num3,\":\",math.fabs(num3))\n"
   ]
  },
  {
   "cell_type": "code",
   "execution_count": 14,
   "id": "5701afbb",
   "metadata": {},
   "outputs": [
    {
     "name": "stdout",
     "output_type": "stream",
     "text": [
      "Before update:\n",
      "Co-pilot: Raghav\n",
      "\n",
      "After update:\n",
      "Co-pilot: Henry\n",
      "Flight Attendant: Jane\n"
     ]
    }
   ],
   "source": [
    "crew_details={\n",
    "    \"Pilot\":\"Kumar\",\n",
    "    \"Co-pilot\":\"Raghav\",\n",
    "    \"Head-Strewardess\":\"Malini\",\n",
    "    \"Stewardess\":\"Mala\"\n",
    "}\n",
    "print(\"Before update:\")\n",
    "print(\"Co-pilot:\",crew_details.get(\"Co-pilot\"))\n",
    "crew_details.update({\"Flight Attendant\":\"Jane\", \"Co-pilot\":\"Henry\"})\n",
    "print(\"\\nAfter update:\")\n",
    "print(\"Co-pilot:\",crew_details.get(\"Co-pilot\"))\n",
    "print(\"Flight Attendant:\",crew_details[\"Flight Attendant\"])\n"
   ]
  },
  {
   "cell_type": "code",
   "execution_count": 17,
   "id": "506f5a13",
   "metadata": {},
   "outputs": [
    {
     "name": "stdout",
     "output_type": "stream",
     "text": [
      "pattern not found\n"
     ]
    }
   ],
   "source": [
    "import re\n",
    "\n",
    "if re.search('air','Airlines')!=None:\n",
    "    print('pattern found')\n",
    "else:\n",
    "    print('pattern not found')"
   ]
  },
  {
   "cell_type": "code",
   "execution_count": 26,
   "id": "2e3ace09",
   "metadata": {},
   "outputs": [
    {
     "name": "stdout",
     "output_type": "stream",
     "text": [
      "Pattern found\n"
     ]
    }
   ],
   "source": [
    "import re\n",
    "if(re.search(r\"A\\d*\",\"Au2\")!=None):\n",
    "    print(\"Pattern found\")\n",
    "else:\n",
    "    print(\"Pattern not found\")"
   ]
  },
  {
   "cell_type": "code",
   "execution_count": 27,
   "id": "bce21056",
   "metadata": {},
   "outputs": [
    {
     "name": "stdout",
     "output_type": "stream",
     "text": [
      "Pattern found\n"
     ]
    }
   ],
   "source": [
    "import re\n",
    "if(re.search(r\"A\\d?i\",\"Airline\")!=None):\n",
    "    print(\"Pattern found\")\n",
    "else:\n",
    "    print(\"Pattern not found\")"
   ]
  },
  {
   "cell_type": "code",
   "execution_count": 30,
   "id": "12cdf2bc",
   "metadata": {},
   "outputs": [
    {
     "name": "stdout",
     "output_type": "stream",
     "text": [
      "Pattern not found\n"
     ]
    }
   ],
   "source": [
    "import re\n",
    "if(re.search(r\"A\\d{3}i\",\"A2923irline\")!=None):\n",
    "    print(\"Pattern found\")\n",
    "else:\n",
    "    print(\"Pattern not found\")"
   ]
  },
  {
   "cell_type": "markdown",
   "id": "483c22b7",
   "metadata": {},
   "source": [
    "Write a python function, encrypt_sentence(msg) which accepts a message and encrypts it based on rules given below and returns the encrypted message.\n",
    " \n",
    "\n",
    "Words at odd position -> Reverse It\n",
    "\n",
    "Words at even position -> Rearrange the characters so that all consonants appear before the vowels and their order should not change\n",
    "\n",
    "Note: Assume that the sentence would begin with a word and there will be only a single space between the words.\n",
    "\n",
    "          Perform case sensitive string operations wherever necessary.\n",
    "\n",
    "Example: msg=the sun rises in the east    output=eht snu sesir ni eht stea\n",
    "\n"
   ]
  },
  {
   "cell_type": "code",
   "execution_count": 3,
   "id": "e8ef4dff",
   "metadata": {},
   "outputs": [
    {
     "name": "stdout",
     "output_type": "stream",
     "text": [
      "the sun rises in the east \n"
     ]
    },
    {
     "data": {
      "text/plain": [
       "'eht snu sesir ni eht stea '"
      ]
     },
     "execution_count": 3,
     "metadata": {},
     "output_type": "execute_result"
    }
   ],
   "source": [
    "def convow(s):\n",
    "    s1=\"\"\n",
    "    s2 =\"\"\n",
    "    for i in s:\n",
    "        if i in ['a','e','i','o','u','A','E','I','O','U']:\n",
    "            s2+=i\n",
    "        else:\n",
    "            s1+=i\n",
    "    return s1+s2\n",
    "a = list(map(str,input().split(\" \")))\n",
    "\n",
    "for i in range(len(a)):\n",
    "    if i%2==0:\n",
    "        a[i]=a[i][::-1]\n",
    "    else:\n",
    "        a[i]= convow(a[i])\n",
    "        \n",
    "s = \" \"\n",
    "s.join(a)"
   ]
  },
  {
   "cell_type": "markdown",
   "id": "4d645122",
   "metadata": {},
   "source": [
    "Write a Python program to find the number of characters present the given string."
   ]
  },
  {
   "cell_type": "code",
   "execution_count": 1,
   "id": "c14e1d57",
   "metadata": {},
   "outputs": [
    {
     "name": "stdout",
     "output_type": "stream",
     "text": [
      "Enter the Stringsai2puneeth\n"
     ]
    },
    {
     "data": {
      "text/plain": [
       "10"
      ]
     },
     "execution_count": 1,
     "metadata": {},
     "output_type": "execute_result"
    }
   ],
   "source": [
    "def charCount(str1):\n",
    "    count=0\n",
    "    for i in str1:\n",
    "        if i.isalpha():\n",
    "            count+=1\n",
    "    return count\n",
    "\n",
    "charCount(input('Enter the String'))"
   ]
  },
  {
   "cell_type": "markdown",
   "id": "8cc845e9",
   "metadata": {},
   "source": [
    "Write a Python program to find the numbers of words present in the given sentence."
   ]
  },
  {
   "cell_type": "code",
   "execution_count": 3,
   "id": "293e11b3",
   "metadata": {},
   "outputs": [
    {
     "name": "stdout",
     "output_type": "stream",
     "text": [
      "python program to find the number of words\n",
      "8\n"
     ]
    }
   ],
   "source": [
    "a = input().split(' ')\n",
    "print(len(a))"
   ]
  },
  {
   "cell_type": "markdown",
   "id": "5f1147d0",
   "metadata": {},
   "source": [
    "Write a Python function vowel_count(sentence) to return a dictionary with vowels, consonants, others as key and respective number of vowels, consonants, others characters as value.\n",
    "\n",
    "Note: Do case insensitive operations\n",
    "\n",
    "Example: sentence=“I love python and it so easy to learn”\n",
    "\n",
    "                 sample output={“vowels”:12,”consonants”:17, “others”:8}"
   ]
  },
  {
   "cell_type": "code",
   "execution_count": 4,
   "id": "c30ce271",
   "metadata": {},
   "outputs": [
    {
     "name": "stdout",
     "output_type": "stream",
     "text": [
      "Enter the stringI love Python and it so easy to learn\n"
     ]
    },
    {
     "data": {
      "text/plain": [
       "{'vowel': 12, 'consonants': 17, 'others': 8}"
      ]
     },
     "execution_count": 4,
     "metadata": {},
     "output_type": "execute_result"
    }
   ],
   "source": [
    "def vowel_count(sentence):\n",
    "    dict1 ={'vowel':0,\n",
    "           'consonants':0,\n",
    "           'others':0}\n",
    "    vowels = 'aeiouAEIOU'\n",
    "    for i in sentence:\n",
    "        if i in vowels:\n",
    "            dict1['vowel']=dict1['vowel']+1\n",
    "        elif i==\" \":\n",
    "            dict1['others']=dict1['others']+1\n",
    "        else:\n",
    "            dict1['consonants']=dict1['consonants']+1\n",
    "    return dict1\n",
    "\n",
    "vowel_count(input('Enter the string'))"
   ]
  },
  {
   "cell_type": "code",
   "execution_count": null,
   "id": "038249f4",
   "metadata": {},
   "outputs": [],
   "source": []
  }
 ],
 "metadata": {
  "kernelspec": {
   "display_name": "Python 3 (ipykernel)",
   "language": "python",
   "name": "python3"
  },
  "language_info": {
   "codemirror_mode": {
    "name": "ipython",
    "version": 3
   },
   "file_extension": ".py",
   "mimetype": "text/x-python",
   "name": "python",
   "nbconvert_exporter": "python",
   "pygments_lexer": "ipython3",
   "version": "3.9.12"
  }
 },
 "nbformat": 4,
 "nbformat_minor": 5
}
